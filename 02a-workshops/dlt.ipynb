{
 "cells": [
  {
   "cell_type": "markdown",
   "id": "12ba8f42",
   "metadata": {},
   "source": [
    "### From REST to reasoning: ingest, index, and query with dlt and Cognee.\n"
   ]
  },
  {
   "cell_type": "markdown",
   "id": "49d91c19",
   "metadata": {},
   "source": []
  }
 ],
 "metadata": {
  "language_info": {
   "name": "python"
  }
 },
 "nbformat": 4,
 "nbformat_minor": 5
}
