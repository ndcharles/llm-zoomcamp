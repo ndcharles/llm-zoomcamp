{
 "cells": [
  {
   "cell_type": "markdown",
   "id": "12ba8f42",
   "metadata": {},
   "source": [
    "### From REST to reasoning: ingest, index, and query with dlt and Cognee.\n"
   ]
  },
  {
   "cell_type": "markdown",
   "id": "49d91c19",
   "metadata": {},
   "source": [
    "Reference: [Here](https://github.com/DataTalksClub/llm-zoomcamp/blob/main/cohorts/2025/workshops/dlt.md)"
   ]
  },
  {
   "cell_type": "code",
   "execution_count": null,
   "id": "7bcf78be",
   "metadata": {},
   "outputs": [],
   "source": []
  }
 ],
 "metadata": {
  "language_info": {
   "name": "python"
  }
 },
 "nbformat": 4,
 "nbformat_minor": 5
}
