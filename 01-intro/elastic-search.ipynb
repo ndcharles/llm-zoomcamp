{
 "cells": [
  {
   "cell_type": "markdown",
   "id": "8799cea2-e7e3-4d42-b342-d6b1f04ecf25",
   "metadata": {},
   "source": [
    "## Homework\n",
    "\n",
    "Search using elastic search"
   ]
  },
  {
   "cell_type": "markdown",
   "id": "ff3524a5-32b8-4a81-a128-60667777bd6a",
   "metadata": {},
   "source": [
    "### Question 1: Running elastic"
   ]
  },
  {
   "cell_type": "markdown",
   "id": "aa3bb2f0-52e7-4855-a7c3-a02fcf7d3eae",
   "metadata": {},
   "source": [
    "#Running on Elastic search 8.17.6\n",
    "```bash\n",
    "$ curl localhost:9200\n",
    "{\n",
    "  \"name\" : \"906ced9add0e\",\n",
    "  \"cluster_name\" : \"docker-cluster\",\n",
    "  \"cluster_uuid\" : \"cuMnxk0cTJaRVufQwW9Paw\",\n",
    "  \"version\" : {\n",
    "    \"number\" : \"8.17.6\",\n",
    "    \"build_flavor\" : \"default\",\n",
    "    \"build_type\" : \"docker\",\n",
    "    \"build_hash\" : \"dbcbbbd0bc4924cfeb28929dc05d82d662c527b7\",\n",
    "    \"build_date\" : \"2025-04-30T14:07:12.231372970Z\",\n",
    "    \"build_snapshot\" : false,\n",
    "    \"lucene_version\" : \"9.12.0\",\n",
    "    \"minimum_wire_compatibility_version\" : \"7.17.0\",\n",
    "    \"minimum_index_compatibility_version\" : \"7.0.0\"\n",
    "  },\n",
    "  \"tagline\" : \"You Know, for Search\"\n",
    "}\n",
    "```\n",
    "\n",
    "\"build_hash\" : \"dbcbbbd0bc4924cfeb28929dc05d82d662c527b7\","
   ]
  },
  {
   "cell_type": "markdown",
   "id": "6e6e9e71-4fd9-4676-8770-7c59eae78c11",
   "metadata": {},
   "source": [
    "### Question 2: Indexing the data"
   ]
  },
  {
   "cell_type": "code",
   "execution_count": 12,
   "id": "6c924157-8d18-4a83-8374-b5921961dcf0",
   "metadata": {},
   "outputs": [],
   "source": [
    "#importing the libraries\n",
    "import json\n",
    "import requests\n",
    "from google import genai\n",
    "from elasticsearch import Elasticsearch\n",
    "from tqdm import tqdm"
   ]
  },
  {
   "cell_type": "code",
   "execution_count": 6,
   "id": "b67be001-e513-4ac8-9e39-a75ecc7dcbe1",
   "metadata": {},
   "outputs": [],
   "source": [
    "docs_url = 'https://github.com/DataTalksClub/llm-zoomcamp/blob/main/01-intro/documents.json?raw=1'\n",
    "docs_response = requests.get(docs_url)\n",
    "documents_raw = docs_response.json()\n",
    "\n",
    "documents = []\n",
    "\n",
    "for course in documents_raw:\n",
    "    course_name = course['course']\n",
    "\n",
    "    for doc in course['documents']:\n",
    "        doc['course'] = course_name\n",
    "        documents.append(doc)"
   ]
  },
  {
   "cell_type": "code",
   "execution_count": 9,
   "id": "adb61f1e-cdd3-41f4-94bc-123460912057",
   "metadata": {},
   "outputs": [],
   "source": [
    "# create es client\n",
    "es_client = Elasticsearch('http://localhost:9200')"
   ]
  },
  {
   "cell_type": "code",
   "execution_count": 10,
   "id": "34e35dc8-cef2-4263-a279-3a7d81a68b24",
   "metadata": {},
   "outputs": [
    {
     "data": {
      "text/plain": [
       "ObjectApiResponse({'acknowledged': True, 'shards_acknowledged': True, 'index': 'course-questions'})"
      ]
     },
     "execution_count": 10,
     "metadata": {},
     "output_type": "execute_result"
    }
   ],
   "source": [
    "#run the index settings\n",
    "index_settings = {\n",
    "    \"settings\": {\n",
    "        \"number_of_shards\": 1,\n",
    "        \"number_of_replicas\": 0\n",
    "    },\n",
    "    \"mappings\": {\n",
    "        \"dynamic\": \"strict\",  # Prevent unwanted field additions\n",
    "        \"properties\": {\n",
    "            \"text\": {\"type\": \"text\"},\n",
    "            \"section\": {\"type\": \"text\"},\n",
    "            \"question\": {\"type\": \"text\"},\n",
    "            \"course\": {\"type\": \"keyword\"} \n",
    "        }\n",
    "    }\n",
    "}\n",
    "\n",
    "#give the index a name\n",
    "index_name = \"course-questions\"\n",
    "\n",
    "# Delete old index if exists\n",
    "#if es_client.indices.exists(index=index_name):\n",
    "#    es_client.indices.delete(index=index_name)\n",
    "    \n",
    "#create the index\n",
    "es_client.indices.create(index=index_name, body=index_settings)"
   ]
  },
  {
   "cell_type": "code",
   "execution_count": 15,
   "id": "00488203-654f-4665-b15e-7edc30a90744",
   "metadata": {},
   "outputs": [
    {
     "name": "stderr",
     "output_type": "stream",
     "text": [
      "100%|███████████████████████████████████████████████████████████████████████████████████████████████████████████████████| 948/948 [00:04<00:00, 227.44it/s]\n"
     ]
    }
   ],
   "source": [
    "#iterate through the document to add it to ES\n",
    "# this failed initially becuase I wa passing the entire docs instead of doc (single line at a time)\n",
    "for doc in tqdm(documents):\n",
    "    es_client.index(index=index_name, document=doc)"
   ]
  },
  {
   "cell_type": "markdown",
   "id": "9b9db108-a6f7-4ca7-b6ee-865387c72684",
   "metadata": {},
   "source": [
    "### Question 3: Searching"
   ]
  },
  {
   "cell_type": "code",
   "execution_count": 43,
   "id": "701d689f-5df2-4998-85f3-7bb75a5f93f5",
   "metadata": {},
   "outputs": [],
   "source": [
    "query = \"How do execute a command on a Kubernetes pod?\""
   ]
  },
  {
   "cell_type": "code",
   "execution_count": 44,
   "id": "a367157a-f7b2-4198-82ea-25a91fac4604",
   "metadata": {},
   "outputs": [
    {
     "name": "stdout",
     "output_type": "stream",
     "text": [
      "{'took': 11, 'timed_out': False, '_shards': {'total': 1, 'successful': 1, 'skipped': 0, 'failed': 0}, 'hits': {'total': {'value': 739, 'relation': 'eq'}, 'max_score': 44.50556, 'hits': [{'_index': 'course-questions', '_id': 'Oa66c5cBhaU4gpfM9myO', '_score': 44.50556, '_source': {'text': 'Launch the container image in interactive mode and overriding the entrypoint, so that it starts a bash command.\\ndocker run -it --entrypoint bash <image>\\nIf the container is already running, execute a command in the specific container:\\ndocker ps (find the container-id)\\ndocker exec -it <container-id> bash\\n(Marcos MJD)', 'section': '5. Deploying Machine Learning Models', 'question': 'How do I debug a docker container?', 'course': 'machine-learning-zoomcamp'}}, {'_index': 'course-questions', '_id': 'yK66c5cBhaU4gpfM-Gya', '_score': 35.433445, '_source': {'text': 'Deploy and Access the Kubernetes Dashboard\\nLuke', 'section': '10. Kubernetes and TensorFlow Serving', 'question': 'Kubernetes-dashboard', 'course': 'machine-learning-zoomcamp'}}, {'_index': 'course-questions', '_id': 'Wa66c5cBhaU4gpfM92wD', '_score': 33.70974, '_source': {'text': 'You can copy files from your local machine into a Docker container using the docker cp command. Here\\'s how to do it:\\nIn the Dockerfile, you can provide the folder containing the files that you want to copy over. The basic syntax is as follows:\\nCOPY [\"src/predict.py\", \"models/xgb_model.bin\", \"./\"]\\t\\t\\t\\t\\t\\t\\t\\t\\t\\t\\tGopakumar Gopinathan', 'section': '5. Deploying Machine Learning Models', 'question': 'How do I copy files from a different folder into docker container’s working directory?', 'course': 'machine-learning-zoomcamp'}}, {'_index': 'course-questions', '_id': 'SK66c5cBhaU4gpfM9mzI', '_score': 33.2635, '_source': {'text': 'Problem description:\\nI started a web-server in terminal (command window, powershell, etc.). How can I run another python script, which makes a request to this server?\\nSolution description:\\nJust open another terminal (command window, powershell, etc.) and run a python script.\\nAlena Kniazeva', 'section': '5. Deploying Machine Learning Models', 'question': 'How to run a script while a web-server is working?', 'course': 'machine-learning-zoomcamp'}}, {'_index': 'course-questions', '_id': 'G666c5cBhaU4gpfM9mwt', '_score': 32.589073, '_source': {'text': \"Matplotlib has a cool method to annotate where you could provide an X,Y point and annotate with an arrow and text. For example this will show an arrow pointing to the x,y point optimal threshold.\\nplt.annotate(f'Optimal Threshold: {optimal_threshold:.2f}\\\\nOptimal F1 Score: {optimal_f1_score:.2f}',\\nxy=(optimal_threshold, optimal_f1_score),\\nxytext=(0.3, 0.5),\\ntextcoords='axes fraction',\\narrowprops=dict(facecolor='black', shrink=0.05))\\nQuinn Avila\", 'section': '4. Evaluation Metrics for Classification', 'question': 'How can I annotate a graph?', 'course': 'machine-learning-zoomcamp'}}]}}\n",
      "[{'text': 'Launch the container image in interactive mode and overriding the entrypoint, so that it starts a bash command.\\ndocker run -it --entrypoint bash <image>\\nIf the container is already running, execute a command in the specific container:\\ndocker ps (find the container-id)\\ndocker exec -it <container-id> bash\\n(Marcos MJD)', 'section': '5. Deploying Machine Learning Models', 'question': 'How do I debug a docker container?', 'course': 'machine-learning-zoomcamp'}, {'text': 'Deploy and Access the Kubernetes Dashboard\\nLuke', 'section': '10. Kubernetes and TensorFlow Serving', 'question': 'Kubernetes-dashboard', 'course': 'machine-learning-zoomcamp'}, {'text': 'You can copy files from your local machine into a Docker container using the docker cp command. Here\\'s how to do it:\\nIn the Dockerfile, you can provide the folder containing the files that you want to copy over. The basic syntax is as follows:\\nCOPY [\"src/predict.py\", \"models/xgb_model.bin\", \"./\"]\\t\\t\\t\\t\\t\\t\\t\\t\\t\\t\\tGopakumar Gopinathan', 'section': '5. Deploying Machine Learning Models', 'question': 'How do I copy files from a different folder into docker container’s working directory?', 'course': 'machine-learning-zoomcamp'}, {'text': 'Problem description:\\nI started a web-server in terminal (command window, powershell, etc.). How can I run another python script, which makes a request to this server?\\nSolution description:\\nJust open another terminal (command window, powershell, etc.) and run a python script.\\nAlena Kniazeva', 'section': '5. Deploying Machine Learning Models', 'question': 'How to run a script while a web-server is working?', 'course': 'machine-learning-zoomcamp'}, {'text': \"Matplotlib has a cool method to annotate where you could provide an X,Y point and annotate with an arrow and text. For example this will show an arrow pointing to the x,y point optimal threshold.\\nplt.annotate(f'Optimal Threshold: {optimal_threshold:.2f}\\\\nOptimal F1 Score: {optimal_f1_score:.2f}',\\nxy=(optimal_threshold, optimal_f1_score),\\nxytext=(0.3, 0.5),\\ntextcoords='axes fraction',\\narrowprops=dict(facecolor='black', shrink=0.05))\\nQuinn Avila\", 'section': '4. Evaluation Metrics for Classification', 'question': 'How can I annotate a graph?', 'course': 'machine-learning-zoomcamp'}]\n"
     ]
    }
   ],
   "source": [
    "search_query= {\n",
    "        \"size\": 5,\n",
    "        \"query\": {\n",
    "            \"bool\": {\n",
    "                \"must\": {\n",
    "                    \"multi_match\": {\n",
    "                        \"query\": query,\n",
    "                        \"fields\": [\"question^4\", \"text\"],\n",
    "                        \"type\": \"best_fields\"\n",
    "                    }\n",
    "                },\n",
    "            }\n",
    "        }\n",
    "    }\n",
    "    \n",
    "response = es_client.search(index=index_name, body=search_query)\n",
    "print(response)\n",
    "\n",
    "result_doc = []\n",
    "for hit in response['hits']['hits']:\n",
    "    result_doc.append(hit['_source'])\n",
    "\n",
    "print(result_doc)"
   ]
  },
  {
   "cell_type": "markdown",
   "id": "c23d81e9-3c71-4770-83a0-c575774613f0",
   "metadata": {},
   "source": [
    "### Question 4: Filtering"
   ]
  },
  {
   "cell_type": "code",
   "execution_count": 46,
   "id": "e4512bc5-b0cf-4199-861f-21d904705f3e",
   "metadata": {},
   "outputs": [],
   "source": [
    "query = \"How do copy a file to a Docker container?\""
   ]
  },
  {
   "cell_type": "code",
   "execution_count": 47,
   "id": "a3cf83d2-5e97-4531-b904-318c0c1e62ae",
   "metadata": {},
   "outputs": [
    {
     "name": "stdout",
     "output_type": "stream",
     "text": [
      "{'took': 11, 'timed_out': False, '_shards': {'total': 1, 'successful': 1, 'skipped': 0, 'failed': 0}, 'hits': {'total': {'value': 340, 'relation': 'eq'}, 'max_score': 73.38676, 'hits': [{'_index': 'course-questions', '_id': 'Oa66c5cBhaU4gpfM9myO', '_score': 73.38676, '_source': {'text': 'Launch the container image in interactive mode and overriding the entrypoint, so that it starts a bash command.\\ndocker run -it --entrypoint bash <image>\\nIf the container is already running, execute a command in the specific container:\\ndocker ps (find the container-id)\\ndocker exec -it <container-id> bash\\n(Marcos MJD)', 'section': '5. Deploying Machine Learning Models', 'question': 'How do I debug a docker container?', 'course': 'machine-learning-zoomcamp'}}, {'_index': 'course-questions', '_id': 'WK66c5cBhaU4gpfM9mz_', '_score': 66.688705, '_source': {'text': \"You can copy files from your local machine into a Docker container using the docker cp command. Here's how to do it:\\nTo copy a file or directory from your local machine into a running Docker container, you can use the `docker cp command`. The basic syntax is as follows:\\ndocker cp /path/to/local/file_or_directory container_id:/path/in/container\\nHrithik Kumar Advani\", 'section': '5. Deploying Machine Learning Models', 'question': 'How do I copy files from my local machine to docker container?', 'course': 'machine-learning-zoomcamp'}}, {'_index': 'course-questions', '_id': 'Wa66c5cBhaU4gpfM92wD', '_score': 59.812744, '_source': {'text': 'You can copy files from your local machine into a Docker container using the docker cp command. Here\\'s how to do it:\\nIn the Dockerfile, you can provide the folder containing the files that you want to copy over. The basic syntax is as follows:\\nCOPY [\"src/predict.py\", \"models/xgb_model.bin\", \"./\"]\\t\\t\\t\\t\\t\\t\\t\\t\\t\\t\\tGopakumar Gopinathan', 'section': '5. Deploying Machine Learning Models', 'question': 'How do I copy files from a different folder into docker container’s working directory?', 'course': 'machine-learning-zoomcamp'}}]}}\n",
      "[{'text': 'Launch the container image in interactive mode and overriding the entrypoint, so that it starts a bash command.\\ndocker run -it --entrypoint bash <image>\\nIf the container is already running, execute a command in the specific container:\\ndocker ps (find the container-id)\\ndocker exec -it <container-id> bash\\n(Marcos MJD)', 'section': '5. Deploying Machine Learning Models', 'question': 'How do I debug a docker container?', 'course': 'machine-learning-zoomcamp'}, {'text': \"You can copy files from your local machine into a Docker container using the docker cp command. Here's how to do it:\\nTo copy a file or directory from your local machine into a running Docker container, you can use the `docker cp command`. The basic syntax is as follows:\\ndocker cp /path/to/local/file_or_directory container_id:/path/in/container\\nHrithik Kumar Advani\", 'section': '5. Deploying Machine Learning Models', 'question': 'How do I copy files from my local machine to docker container?', 'course': 'machine-learning-zoomcamp'}, {'text': 'You can copy files from your local machine into a Docker container using the docker cp command. Here\\'s how to do it:\\nIn the Dockerfile, you can provide the folder containing the files that you want to copy over. The basic syntax is as follows:\\nCOPY [\"src/predict.py\", \"models/xgb_model.bin\", \"./\"]\\t\\t\\t\\t\\t\\t\\t\\t\\t\\t\\tGopakumar Gopinathan', 'section': '5. Deploying Machine Learning Models', 'question': 'How do I copy files from a different folder into docker container’s working directory?', 'course': 'machine-learning-zoomcamp'}]\n"
     ]
    }
   ],
   "source": [
    "search_query= {\n",
    "        \"size\": 3,\n",
    "        \"query\": {\n",
    "            \"bool\": {\n",
    "                \"must\": {\n",
    "                    \"multi_match\": {\n",
    "                        \"query\": query,\n",
    "                        \"fields\": [\"question^4\", \"text\"],\n",
    "                        \"type\": \"best_fields\"\n",
    "                    }\n",
    "                },\n",
    "                \"filter\": {\n",
    "                    \"term\": {\n",
    "                        \"course\": \"machine-learning-zoomcamp\"\n",
    "                    }\n",
    "                }\n",
    "            }\n",
    "        }\n",
    "    }\n",
    "    \n",
    "response = es_client.search(index=index_name, body=search_query)\n",
    "print(response)\n",
    "\n",
    "result_doc = []\n",
    "for hit in response['hits']['hits']:\n",
    "    result_doc.append(hit['_source'])\n",
    "\n",
    "print(result_doc)"
   ]
  },
  {
   "cell_type": "markdown",
   "id": "f6cf53cb-b415-41c5-9093-51c023f21fcc",
   "metadata": {},
   "source": [
    "### Question 5: Building a prompt"
   ]
  },
  {
   "cell_type": "code",
   "execution_count": 35,
   "id": "036bccce-262a-4967-88f8-03b341f50039",
   "metadata": {},
   "outputs": [
    {
     "data": {
      "text/plain": [
       "1621"
      ]
     },
     "execution_count": 35,
     "metadata": {},
     "output_type": "execute_result"
    }
   ],
   "source": [
    "context_template  = \"\"\"\n",
    "You're a course teaching assistant. Answer the QUESTION based on the CONTEXT from the FAQ database.\n",
    "Use only the facts from the CONTEXT when answering the QUESTION.\n",
    "\n",
    "QUESTION: {question}\n",
    "\n",
    "CONTEXT: \n",
    "{context}\n",
    "\"\"\".strip()\n",
    "\n",
    "context = \"\"\n",
    "\n",
    "for doc in result_doc:\n",
    "    context = context + f\"section: {doc['section']}\\nquestion: {doc['question']}\\nanswer: {doc['text']}\\n\\n\"\n",
    "\n",
    "prompt = context_template.format(question=query, context=context).strip()\n",
    "\n",
    "len(prompt)\n",
    "#print(prompt)"
   ]
  },
  {
   "cell_type": "markdown",
   "id": "c7c022a9-a60b-42c4-a921-551ada6c119c",
   "metadata": {},
   "source": [
    "### Question 6: Tokens"
   ]
  },
  {
   "cell_type": "code",
   "execution_count": 38,
   "id": "375e40d6-af0f-4291-800b-a772efbd6cb2",
   "metadata": {},
   "outputs": [],
   "source": [
    "import tiktoken"
   ]
  },
  {
   "cell_type": "code",
   "execution_count": 39,
   "id": "153b18ed-833b-4e9b-97b1-81f7e2564925",
   "metadata": {},
   "outputs": [
    {
     "data": {
      "text/plain": [
       "<Encoding 'o200k_base'>"
      ]
     },
     "execution_count": 39,
     "metadata": {},
     "output_type": "execute_result"
    }
   ],
   "source": [
    "encoding = tiktoken.encoding_for_model(\"gpt-4o\")\n",
    "encoding"
   ]
  },
  {
   "cell_type": "code",
   "execution_count": 41,
   "id": "531fad2f-7f8d-4c0c-b269-38aabdfbc61f",
   "metadata": {},
   "outputs": [
    {
     "data": {
      "text/plain": [
       "354"
      ]
     },
     "execution_count": 41,
     "metadata": {},
     "output_type": "execute_result"
    }
   ],
   "source": [
    "num_tokens = len(encoding.encode(prompt))\n",
    "num_tokens"
   ]
  },
  {
   "cell_type": "markdown",
   "id": "8573aa27-9741-4a74-9a38-3b3644fe864b",
   "metadata": {},
   "source": [
    "### Bonus responses: Generating answers"
   ]
  },
  {
   "cell_type": "code",
   "execution_count": 58,
   "id": "336b3ec1-969d-4188-846a-6f8377016ce5",
   "metadata": {},
   "outputs": [],
   "source": [
    "gemini_key = \"AIzaSyCWYdzvCfj_...-v5z5A_1CkE7vc\""
   ]
  },
  {
   "cell_type": "code",
   "execution_count": 49,
   "id": "80a5364b-0ec9-42d4-951b-7002df7583da",
   "metadata": {},
   "outputs": [],
   "source": [
    "def llm_response(prompt):\n",
    "    client = genai.Client(api_key=gemini_key)\n",
    "    response = client.models.generate_content(\n",
    "    model=\"gemini-2.0-flash\",\n",
    "    contents=prompt\n",
    "    )\n",
    "\n",
    "    return print(response.text)"
   ]
  },
  {
   "cell_type": "code",
   "execution_count": 51,
   "id": "f4026264-0809-43c0-9899-cea7e95be9c9",
   "metadata": {
    "scrolled": true
   },
   "outputs": [
    {
     "name": "stdout",
     "output_type": "stream",
     "text": [
      "You can copy files from your local machine into a Docker container using the `docker cp` command.\n",
      "To copy a file or directory from your local machine into a running Docker container, you can use the `docker cp command`. The basic syntax is as follows: `docker cp /path/to/local/file_or_directory container_id:/path/in/container`.\n",
      "\n",
      "In the Dockerfile, you can provide the folder containing the files that you want to copy over. The basic syntax is as follows: `COPY [\"src/predict.py\", \"models/xgb_model.bin\", \"./\"]`.\n",
      "\n"
     ]
    }
   ],
   "source": [
    "answer = llm_response(prompt)\n",
    "answer"
   ]
  },
  {
   "cell_type": "markdown",
   "id": "8a82c5c1-5bfa-4b29-b9eb-7644a158acbb",
   "metadata": {},
   "source": [
    "### Bonus responses: calculating the costs (ungraded)\n",
    "\n",
    "Considering that I am using Gemini 2.5 Flash Preview. Here are the pricing as at June 15th, 2025 per 1Million token\n",
    "- Input: $0.15\n",
    "  \n",
    "- Output: Non-thinking: $0.60 | Thinking: $3.50"
   ]
  },
  {
   "cell_type": "code",
   "execution_count": 57,
   "id": "de38dc89-1c10-4197-8fc3-980340b23aff",
   "metadata": {},
   "outputs": [
    {
     "data": {
      "text/plain": [
       "GenerateContentResponse(candidates=[Candidate(content=Content(parts=[Part(video_metadata=None, thought=None, inline_data=None, file_data=None, thought_signature=None, code_execution_result=None, executable_code=None, function_call=None, function_response=None, text='You can copy files from your local machine into a Docker container using the `docker cp` command. The basic syntax is as follows: `docker cp /path/to/local/file_or_directory container_id:/path/in/container`.\\n\\nIn the Dockerfile, you can provide the folder containing the files that you want to copy over with the syntax: `COPY [\"src/predict.py\", \"models/xgb_model.bin\", \"./\"]`.\\n')], role='model'), citation_metadata=CitationMetadata(citations=[Citation(end_index=204, license=None, publication_date=None, start_index=73, title=None, uri='https://docs.google.com/document/d/1LpPanc33QJJ6BSsyxVg-pWNMplal84TdZtq10naIhD8/edit')]), finish_message=None, token_count=None, finish_reason=<FinishReason.STOP: 'STOP'>, url_context_metadata=None, avg_logprobs=-0.044916099972195096, grounding_metadata=None, index=None, logprobs_result=None, safety_ratings=None)], create_time=None, response_id=None, model_version='gemini-2.0-flash', prompt_feedback=None, usage_metadata=GenerateContentResponseUsageMetadata(cache_tokens_details=None, cached_content_token_count=None, candidates_token_count=99, candidates_tokens_details=[ModalityTokenCount(modality=<MediaModality.TEXT: 'TEXT'>, token_count=99)], prompt_token_count=387, prompt_tokens_details=[ModalityTokenCount(modality=<MediaModality.TEXT: 'TEXT'>, token_count=387)], thoughts_token_count=None, tool_use_prompt_token_count=None, tool_use_prompt_tokens_details=None, total_token_count=486, traffic_type=None), automatic_function_calling_history=[], parsed=None)"
      ]
     },
     "execution_count": 57,
     "metadata": {},
     "output_type": "execute_result"
    }
   ],
   "source": [
    "client = genai.Client(api_key=gemini_key)\n",
    "answer = client.models.generate_content(\n",
    "model=\"gemini-2.0-flash\",\n",
    "contents=prompt\n",
    ")\n",
    "answer"
   ]
  },
  {
   "cell_type": "markdown",
   "id": "b6527614-b41d-4e30-8296-5a3e8fad365a",
   "metadata": {},
   "source": [
    "**Current usage based on the API output above:**\n",
    "- Input tokens: 387 (prompt_token_count)\n",
    "- Output tokens: 99 (candidates_token_count)\n",
    "- Total tokens: 486 (total_token_count)\n",
    "\n",
    "**Pricing for Gemini:**\n",
    "- Input: $0.15 per 1M tokens\n",
    "- Output: $0.60 per 1M tokens (standard request)\n",
    "\n",
    "**Cost Calculation:**\n",
    "- Input cost: (387 / 1,000,000) * $0.15 = $0.00005805\n",
    "- Output cost: (99 / 1,000,000) * $0.60 = $0.0000594\n",
    "- Total cost: $0.00005805 + $0.0000594 = $0.00011745 (~0.0117 cents\n",
    "\n",
    "**For 1000 requests, we would be spending: $0.00011745x1000 = $0.11745"
   ]
  }
 ],
 "metadata": {
  "kernelspec": {
   "display_name": "Python 3 (ipykernel)",
   "language": "python",
   "name": "python3"
  },
  "language_info": {
   "codemirror_mode": {
    "name": "ipython",
    "version": 3
   },
   "file_extension": ".py",
   "mimetype": "text/x-python",
   "name": "python",
   "nbconvert_exporter": "python",
   "pygments_lexer": "ipython3",
   "version": "3.12.1"
  }
 },
 "nbformat": 4,
 "nbformat_minor": 5
}
