{
 "cells": [
  {
   "cell_type": "code",
   "execution_count": 12,
   "id": "b4081aa4-b0de-41c9-8f44-66b44f0a8c58",
   "metadata": {},
   "outputs": [],
   "source": [
    "#from openai import OpenAI\n",
    "import os\n",
    "from google import genai"
   ]
  },
  {
   "cell_type": "code",
   "execution_count": 13,
   "id": "68abb1a3-218f-4b7a-9b9a-fa002db6573d",
   "metadata": {},
   "outputs": [],
   "source": [
    "#api_key = os.getenv(\"OPENAI_API_KEY\")"
   ]
  },
  {
   "cell_type": "code",
   "execution_count": 21,
   "id": "a1728941-b220-43c8-a8c5-eb00a08e2f08",
   "metadata": {},
   "outputs": [],
   "source": [
    "client = genai.Client(api_key=\"AIzaSyCWYdzvCfj_...-v5z5A_1CkE7vc\")"
   ]
  },
  {
   "cell_type": "code",
   "execution_count": 15,
   "id": "7ae44129-fcf0-46fe-95b8-c3df3649df7f",
   "metadata": {},
   "outputs": [],
   "source": [
    "#client = OpenAI(api_key=api_key)"
   ]
  },
  {
   "cell_type": "code",
   "execution_count": 16,
   "id": "950a2775-b806-4f49-88ae-199f85b2e157",
   "metadata": {},
   "outputs": [],
   "source": [
    "response = client.models.generate_content(\n",
    "    model=\"gemini-2.0-flash\",\n",
    "    contents=\"Explain how AI works in a few words\"\n",
    ")"
   ]
  },
  {
   "cell_type": "code",
   "execution_count": 20,
   "id": "da8944ee-33aa-4465-a1e7-0c2add424b85",
   "metadata": {},
   "outputs": [
    {
     "name": "stdout",
     "output_type": "stream",
     "text": [
      "AI learns from data to make predictions or decisions.\n",
      "\n"
     ]
    }
   ],
   "source": [
    "print(response.text)"
   ]
  },
  {
   "cell_type": "markdown",
   "id": "a10d5b0f-3390-4441-b7e2-fb36938a8b5d",
   "metadata": {},
   "source": [
    "In summary, I ended up with gemini instead of Open AI due to availablity of free credits."
   ]
  }
 ],
 "metadata": {
  "kernelspec": {
   "display_name": "Python 3 (ipykernel)",
   "language": "python",
   "name": "python3"
  },
  "language_info": {
   "codemirror_mode": {
    "name": "ipython",
    "version": 3
   },
   "file_extension": ".py",
   "mimetype": "text/x-python",
   "name": "python",
   "nbconvert_exporter": "python",
   "pygments_lexer": "ipython3",
   "version": "3.12.1"
  }
 },
 "nbformat": 4,
 "nbformat_minor": 5
}
